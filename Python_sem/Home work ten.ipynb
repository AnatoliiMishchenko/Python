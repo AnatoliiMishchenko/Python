{
 "cells":[
  {
   "cell_type":"code",
   "source":[
    "from sympy import *\n",
    "from sympy.plotting import plot\n",
    "x = Symbol(\"x\")\n",
    "\n",
    "f1 = -18 * x ** 3 + 5 * x ** 2 + 10 * x - 30\n",
    "f1"
   ],
   "execution_count":18,
   "outputs":[
    {
     "data":{
      "text\/latex":[
       "$\\displaystyle - 18 x^{3} + 5 x^{2} + 10 x - 30$"
      ]
     },
     "metadata":{
      
     },
     "output_type":"display_data"
    }
   ],
   "metadata":{
    "datalore":{
     "node_id":"cVEXBl0EqlkAubTYheK5ln",
     "type":"CODE",
     "hide_input_from_viewers":false,
     "hide_output_from_viewers":false
    }
   }
  },
  {
   "cell_type":"code",
   "source":[
    "x = Symbol(\"x\")\n",
    "f2 = 2 * x ** 3 + 2 * x ** 2 - 18 * x - 18\n",
    "f2"
   ],
   "execution_count":19,
   "outputs":[
    {
     "data":{
      "text\/latex":[
       "$\\displaystyle 2 x^{3} + 2 x^{2} - 18 x - 18$"
      ]
     },
     "metadata":{
      
     },
     "output_type":"display_data"
    }
   ],
   "metadata":{
    "datalore":{
     "node_id":"mEOZPHbXffMbbj46yRT9c4",
     "type":"CODE",
     "hide_input_from_viewers":false,
     "hide_output_from_viewers":false
    }
   }
  },
  {
   "cell_type":"code",
   "source":[
    "x = Symbol(\"x\")\n",
    "f3 = (x ** 2 + 3) \/ (3 * (x + 1))\n",
    "f3"
   ],
   "execution_count":20,
   "outputs":[
    {
     "data":{
      "text\/latex":[
       "$\\displaystyle \\frac{x^{2} + 3}{3 x + 3}$"
      ]
     },
     "metadata":{
      
     },
     "output_type":"display_data"
    }
   ],
   "metadata":{
    "datalore":{
     "node_id":"YUuXXEDYjXnSfychoBb5pi",
     "type":"CODE",
     "hide_input_from_viewers":false,
     "hide_output_from_viewers":false
    }
   }
  },
  {
   "cell_type":"code",
   "source":[
    "solveset(f1,x)"
   ],
   "execution_count":21,
   "outputs":[
    {
     "data":{
      "text\/latex":[
       "$\\displaystyle \\left\\{- \\frac{\\sqrt[3]{\\frac{5 \\sqrt{218931}}{108} + \\frac{127045}{5832}}}{3} - \\frac{565}{972 \\sqrt[3]{\\frac{5 \\sqrt{218931}}{108} + \\frac{127045}{5832}}} + \\frac{5}{54}, \\frac{565}{1944 \\sqrt[3]{\\frac{5 \\sqrt{218931}}{108} + \\frac{127045}{5832}}} + \\frac{5}{54} + \\frac{\\sqrt[3]{\\frac{5 \\sqrt{218931}}{108} + \\frac{127045}{5832}}}{6} + i \\left(- \\frac{565 \\sqrt{3}}{1944 \\sqrt[3]{\\frac{5 \\sqrt{218931}}{108} + \\frac{127045}{5832}}} + \\frac{\\sqrt{3} \\sqrt[3]{\\frac{5 \\sqrt{218931}}{108} + \\frac{127045}{5832}}}{6}\\right), \\frac{565}{1944 \\sqrt[3]{\\frac{5 \\sqrt{218931}}{108} + \\frac{127045}{5832}}} + \\frac{5}{54} + \\frac{\\sqrt[3]{\\frac{5 \\sqrt{218931}}{108} + \\frac{127045}{5832}}}{6} + i \\left(- \\frac{\\sqrt{3} \\sqrt[3]{\\frac{5 \\sqrt{218931}}{108} + \\frac{127045}{5832}}}{6} + \\frac{565 \\sqrt{3}}{1944 \\sqrt[3]{\\frac{5 \\sqrt{218931}}{108} + \\frac{127045}{5832}}}\\right)\\right\\}$"
      ]
     },
     "metadata":{
      
     },
     "output_type":"display_data"
    }
   ],
   "metadata":{
    "datalore":{
     "node_id":"t7JesFipgVtrbuBZsJibl4",
     "type":"CODE",
     "hide_input_from_viewers":false,
     "hide_output_from_viewers":false
    }
   }
  },
  {
   "cell_type":"code",
   "source":[
    "solveset(f2,x)"
   ],
   "execution_count":22,
   "outputs":[
    {
     "data":{
      "text\/latex":[
       "$\\displaystyle \\left\\{-3, -1, 3\\right\\}$"
      ]
     },
     "metadata":{
      
     },
     "output_type":"display_data"
    }
   ],
   "metadata":{
    "datalore":{
     "node_id":"IJ49lpZAD9h4ablQibXCcc",
     "type":"CODE",
     "hide_input_from_viewers":false,
     "hide_output_from_viewers":false
    }
   }
  },
  {
   "cell_type":"code",
   "source":[
    "solveset(f3,x)"
   ],
   "execution_count":23,
   "outputs":[
    {
     "data":{
      "text\/latex":[
       "$\\displaystyle \\left\\{- \\sqrt{3} i, \\sqrt{3} i\\right\\}$"
      ]
     },
     "metadata":{
      
     },
     "output_type":"display_data"
    }
   ],
   "metadata":{
    "datalore":{
     "node_id":"FO6zA8E5TPJT4JsHS4QoTR",
     "type":"CODE",
     "hide_input_from_viewers":false,
     "hide_output_from_viewers":false
    }
   }
  },
  {
   "cell_type":"code",
   "source":[
    "lst = [-oo,oo]\n",
    "lst[1:1] = solve(diff(f1),x)\n",
    "lst"
   ],
   "execution_count":24,
   "outputs":[
    {
     "data":{
      "text\/plain":[
       "[-oo, 5\/54 - sqrt(565)\/54, 5\/54 + sqrt(565)\/54, oo]"
      ]
     },
     "metadata":{
      
     },
     "output_type":"display_data"
    }
   ],
   "metadata":{
    "datalore":{
     "node_id":"t7T3GoJ0cMHucpfuS6aMJB",
     "type":"CODE",
     "hide_input_from_viewers":false,
     "hide_output_from_viewers":false
    }
   }
  },
  {
   "cell_type":"code",
   "source":[
    "lst = [-oo,oo]\n",
    "lst[1:1] = solve(diff(f2),x)\n",
    "lst"
   ],
   "execution_count":25,
   "outputs":[
    {
     "data":{
      "text\/plain":[
       "[-oo, -1\/3 + 2*sqrt(7)\/3, -2*sqrt(7)\/3 - 1\/3, oo]"
      ]
     },
     "metadata":{
      
     },
     "output_type":"display_data"
    }
   ],
   "metadata":{
    "datalore":{
     "node_id":"VHn2tdwiBGLLHI0YPmNnjc",
     "type":"CODE",
     "hide_input_from_viewers":false,
     "hide_output_from_viewers":false
    }
   }
  },
  {
   "cell_type":"code",
   "source":[
    "lst = [-oo,oo]\n",
    "lst[1:1] = solve(diff(f3),x)\n",
    "lst"
   ],
   "execution_count":26,
   "outputs":[
    {
     "data":{
      "text\/plain":[
       "[-oo, -3, 1, oo]"
      ]
     },
     "metadata":{
      
     },
     "output_type":"display_data"
    }
   ],
   "metadata":{
    "datalore":{
     "node_id":"eInJuVjBd07fIfZmeISTLZ",
     "type":"CODE",
     "hide_input_from_viewers":false,
     "hide_output_from_viewers":false
    }
   }
  },
  {
   "cell_type":"code",
   "source":[
    "\n",
    "inc = []\n",
    "red = []\n",
    "for i in range(1 , len(lst)):\n",
    "    temp = is_increasing(f1, Interval.open(lst[i-1], lst[i]))\n",
    "    if temp:\n",
    "        inc.append(f\"{lst[i-1]},{lst[i]}\")\n",
    "    else:\n",
    "        red.append(f\"{lst[i-1]},{lst[i]}\")\n",
    "print(\"Возрастает на интервалах: \" , *inc)\n",
    "print(\"Убывает на интервалах: \" , *red)"
   ],
   "execution_count":27,
   "outputs":[
    {
     "name":"stdout",
     "text":[
      "Возрастает на интервалах: \n",
      "Убывает на интервалах:  -oo,-3 -3,1 1,oo\n"
     ],
     "output_type":"stream"
    }
   ],
   "metadata":{
    "datalore":{
     "node_id":"l6PF7Z63mSsZtBAFwE2oSA",
     "type":"CODE",
     "hide_input_from_viewers":false,
     "hide_output_from_viewers":false
    }
   }
  },
  {
   "cell_type":"code",
   "source":[
    "inc = []\n",
    "red = []\n",
    "for i in range(1 , len(lst)):\n",
    "    temp = is_increasing(f2, Interval.open(lst[i-1], lst[i]))\n",
    "    if temp:\n",
    "        inc.append(f\"{lst[i-1]},{lst[i]}\")\n",
    "    else:\n",
    "        red.append(f\"{lst[i-1]},{lst[i]}\")\n",
    "print(\"Возрастает на интервалах: \" , *inc)\n",
    "print(\"Убывает на интервалах: \" , *red)"
   ],
   "execution_count":28,
   "outputs":[
    {
     "name":"stdout",
     "text":[
      "Возрастает на интервалах:  -oo,-3\n",
      "Убывает на интервалах:  -3,1 1,oo\n"
     ],
     "output_type":"stream"
    }
   ],
   "metadata":{
    "datalore":{
     "node_id":"8fzu9ctkM8JxGnSBw0FX4N",
     "type":"CODE",
     "hide_input_from_viewers":false,
     "hide_output_from_viewers":false
    }
   }
  },
  {
   "cell_type":"code",
   "source":[
    "inc = []\n",
    "red = []\n",
    "for i in range(1 , len(lst)):\n",
    "    temp = is_increasing(f3, Interval.open(lst[i-1], lst[i]))\n",
    "    if temp:\n",
    "        inc.append(f\"{lst[i-1]},{lst[i]}\")\n",
    "    else:\n",
    "        red.append(f\"{lst[i-1]},{lst[i]}\")\n",
    "print(\"Возрастает на интервалах: \" , *inc)\n",
    "print(\"Убывает на интервалах: \" , *red)"
   ],
   "execution_count":29,
   "outputs":[
    {
     "name":"stdout",
     "text":[
      "Возрастает на интервалах:  -oo,-3 1,oo\n",
      "Убывает на интервалах:  -3,1\n"
     ],
     "output_type":"stream"
    }
   ],
   "metadata":{
    "datalore":{
     "node_id":"T027feiKhcninP8OLaDZfM",
     "type":"CODE",
     "hide_input_from_viewers":false,
     "hide_output_from_viewers":false
    }
   }
  },
  {
   "cell_type":"code",
   "source":[
    "# 4. Построить график\n",
    "plot(f1)"
   ],
   "execution_count":30,
   "outputs":[
    {
     "data":{
      "image\/png":"[encoded data removed]"
     },
     "metadata":{
      "image\/png":{
       
      }
     },
     "output_type":"display_data"
    },
    {
     "data":{
      "text\/plain":[
       "<sympy.plotting.plot.Plot at 0x7f79b03c0910>"
      ]
     },
     "metadata":{
      
     },
     "output_type":"display_data"
    }
   ],
   "metadata":{
    "datalore":{
     "node_id":"dkfHTND7piUSHXzntZgS6z",
     "type":"CODE",
     "hide_input_from_viewers":false,
     "hide_output_from_viewers":false
    }
   }
  },
  {
   "cell_type":"code",
   "source":[
    "plot(f2)"
   ],
   "execution_count":31,
   "outputs":[
    {
     "data":{
      "image\/png":"[encoded data removed]"
     },
     "metadata":{
      "image\/png":{
       
      }
     },
     "output_type":"display_data"
    },
    {
     "data":{
      "text\/plain":[
       "<sympy.plotting.plot.Plot at 0x7f7998da7fd0>"
      ]
     },
     "metadata":{
      
     },
     "output_type":"display_data"
    }
   ],
   "metadata":{
    "datalore":{
     "node_id":"kc02XBqgBJkSxysJskqDqx",
     "type":"CODE",
     "hide_input_from_viewers":false,
     "hide_output_from_viewers":false
    }
   }
  },
  {
   "cell_type":"code",
   "source":[
    "plot(f3)"
   ],
   "execution_count":32,
   "outputs":[
    {
     "data":{
      "image\/png":"[encoded data removed]"
     },
     "metadata":{
      "image\/png":{
       
      }
     },
     "output_type":"display_data"
    },
    {
     "data":{
      "text\/plain":[
       "<sympy.plotting.plot.Plot at 0x7f7998ce1850>"
      ]
     },
     "metadata":{
      
     },
     "output_type":"display_data"
    }
   ],
   "metadata":{
    "datalore":{
     "node_id":"Dtte7FC9GhEWZe2gYFokx1",
     "type":"CODE",
     "hide_input_from_viewers":false,
     "hide_output_from_viewers":false
    }
   }
  },
  {
   "cell_type":"code",
   "source":[
    "# 5. Вычислить вершину\n",
    "# Экстремумы функции\n",
    "a = solve(diff(f1),x)\n",
    "for i in a:\n",
    "    temp = f1.subs(x,i)\n",
    "    if temp < 0:\n",
    "        print(\"точка минимума: \", temp)\n",
    "    elif temp > 0:\n",
    "        print(\"точка максимума: \", temp)\n",
    "        "
   ],
   "execution_count":34,
   "outputs":[
    {
     "name":"stdout",
     "text":[
      "точка минимума:  -785\/27 - 5*sqrt(565)\/27 + 5*(5\/54 - sqrt(565)\/54)**2 - 18*(5\/54 - sqrt(565)\/54)**3\n",
      "точка минимума:  -785\/27 - 18*(5\/54 + sqrt(565)\/54)**3 + 5*(5\/54 + sqrt(565)\/54)**2 + 5*sqrt(565)\/27\n"
     ],
     "output_type":"stream"
    }
   ],
   "metadata":{
    "datalore":{
     "node_id":"41gwV9PL4BnRt4TS3cDXze",
     "type":"CODE",
     "hide_input_from_viewers":false,
     "hide_output_from_viewers":false
    }
   }
  },
  {
   "cell_type":"code",
   "source":[
    "# 5. Вычислить вершину\n",
    "# Экстремумы функции\n",
    "a = solve(diff(f2),x)\n",
    "for i in a:\n",
    "    temp = f2.subs(x,i)\n",
    "    if temp < 0:\n",
    "        print(\"точка минимума: \", temp)\n",
    "    elif temp > 0:\n",
    "        print(\"точка максимума: \", temp)\n",
    "        "
   ],
   "execution_count":35,
   "outputs":[
    {
     "name":"stdout",
     "text":[
      "точка минимума:  -12*sqrt(7) - 12 + 2*(-1\/3 + 2*sqrt(7)\/3)**2 + 2*(-1\/3 + 2*sqrt(7)\/3)**3\n",
      "точка максимума:  2*(-2*sqrt(7)\/3 - 1\/3)**3 - 12 + 2*(-2*sqrt(7)\/3 - 1\/3)**2 + 12*sqrt(7)\n"
     ],
     "output_type":"stream"
    }
   ],
   "metadata":{
    "datalore":{
     "node_id":"CFL43Z8TZT7VcsnO3kmojy",
     "type":"CODE",
     "hide_input_from_viewers":false,
     "hide_output_from_viewers":false
    }
   }
  },
  {
   "cell_type":"code",
   "source":[
    "# 5. Вычислить вершину\n",
    "# Экстремумы функции\n",
    "a = solve(diff(f3),x)\n",
    "for i in a:\n",
    "    temp = f3.subs(x,i)\n",
    "    if temp < 0:\n",
    "        print(\"точка минимума: \", temp)\n",
    "    elif temp > 0:\n",
    "        print(\"точка максимума: \", temp)\n",
    "        "
   ],
   "execution_count":36,
   "outputs":[
    {
     "name":"stdout",
     "text":[
      "точка минимума:  -2\n",
      "точка максимума:  2\/3\n"
     ],
     "output_type":"stream"
    }
   ],
   "metadata":{
    "datalore":{
     "node_id":"l79kD3bGMzVe7lGt1WY8YW",
     "type":"CODE",
     "hide_input_from_viewers":false,
     "hide_output_from_viewers":false
    }
   }
  },
  {
   "cell_type":"code",
   "source":[
    " # 6. Определить промежутки, на котором f > 0\n",
    "# 7. Определить промежутки, на котором f < 0\n",
    "# Знакопостоянства функции\n",
    "lst = [-oo,oo]\n",
    "lst[1:1] = solve(f1,x)\n",
    "\n",
    "inc = []\n",
    "red = []\n",
    "for i in range(1 , len(lst)):\n",
    "    temp_1 , temp_2 = lst[i-1], lst[i]\n",
    "    temp = is_increasing(f1, Interval.open(temp_1,temp_2))\n",
    "    if temp:\n",
    "        inc.append(f\"{temp_1},{temp_2}\")\n",
    "    else:\n",
    "        red.append(f\"{temp_1},{temp_2}\")\n",
    "print(\"Возрастает : \" , *inc, sep = \"\\n\")\n",
    "print(\"Убывает : \" , *red,  sep = \"\\n\")"
   ],
   "execution_count":39,
   "outputs":[
    {
     "name":"stdout",
     "text":[
      "Возрастает : \n",
      "Убывает : \n",
      "-oo,5\/54 - 565\/(972*(-1\/2 - sqrt(3)*I\/2)*(5*sqrt(218931)\/108 + 127045\/5832)**(1\/3)) - (-1\/2 - sqrt(3)*I\/2)*(5*sqrt(218931)\/108 + 127045\/5832)**(1\/3)\/3\n",
      "5\/54 - 565\/(972*(-1\/2 - sqrt(3)*I\/2)*(5*sqrt(218931)\/108 + 127045\/5832)**(1\/3)) - (-1\/2 - sqrt(3)*I\/2)*(5*sqrt(218931)\/108 + 127045\/5832)**(1\/3)\/3,5\/54 - (-1\/2 + sqrt(3)*I\/2)*(5*sqrt(218931)\/108 + 127045\/5832)**(1\/3)\/3 - 565\/(972*(-1\/2 + sqrt(3)*I\/2)*(5*sqrt(218931)\/108 + 127045\/5832)**(1\/3))\n",
      "5\/54 - (-1\/2 + sqrt(3)*I\/2)*(5*sqrt(218931)\/108 + 127045\/5832)**(1\/3)\/3 - 565\/(972*(-1\/2 + sqrt(3)*I\/2)*(5*sqrt(218931)\/108 + 127045\/5832)**(1\/3)),-(5*sqrt(218931)\/108 + 127045\/5832)**(1\/3)\/3 - 565\/(972*(5*sqrt(218931)\/108 + 127045\/5832)**(1\/3)) + 5\/54\n",
      "-(5*sqrt(218931)\/108 + 127045\/5832)**(1\/3)\/3 - 565\/(972*(5*sqrt(218931)\/108 + 127045\/5832)**(1\/3)) + 5\/54,oo\n"
     ],
     "output_type":"stream"
    }
   ],
   "metadata":{
    "datalore":{
     "node_id":"SJU1dn8SyaKUrbhYL3JBOd",
     "type":"CODE",
     "hide_input_from_viewers":false,
     "hide_output_from_viewers":false
    }
   }
  },
  {
   "cell_type":"code",
   "source":[
    "lst = [-oo,oo]\n",
    "lst[1:1] = solve(f2,x)\n",
    "\n",
    "inc = []\n",
    "red = []\n",
    "for i in range(1 , len(lst)):\n",
    "    temp_1 , temp_2 = lst[i-1], lst[i]\n",
    "    temp = is_increasing(f2, Interval.open(temp_1,temp_2))\n",
    "    if temp:\n",
    "        inc.append(f\"{temp_1},{temp_2}\")\n",
    "    else:\n",
    "        red.append(f\"{temp_1},{temp_2}\")\n",
    "print(\"Возрастает : \" , *inc, sep = \"\\n\")\n",
    "print(\"Убывает : \" , *red,  sep = \"\\n\")"
   ],
   "execution_count":40,
   "outputs":[
    {
     "name":"stdout",
     "text":[
      "Возрастает : \n",
      "-oo,-3\n",
      "3,oo\n",
      "Убывает : \n",
      "-3,-1\n",
      "-1,3\n"
     ],
     "output_type":"stream"
    }
   ],
   "metadata":{
    "datalore":{
     "node_id":"maVgngG2x5p3kK2FIUr47e",
     "type":"CODE",
     "hide_input_from_viewers":false,
     "hide_output_from_viewers":false
    }
   }
  },
  {
   "cell_type":"code",
   "source":[
    "lst = [-oo,oo]\n",
    "lst[1:1] = solve(f3,x)\n",
    "\n",
    "inc = []\n",
    "red = []\n",
    "for i in range(1 , len(lst)):\n",
    "    \n",
    "    temp = is_increasing(f3, Interval.open(i,i+1))\n",
    "    if temp:\n",
    "        inc.append(f\"{i},{i+1}\")\n",
    "    else:\n",
    "        red.append(f\"{i},{i+1}\")\n",
    "print(\"Возрастает : \" , *inc, sep = \"\\n\")\n",
    "print(\"Убывает : \" , *red,  sep = \"\\n\")"
   ],
   "execution_count":48,
   "outputs":[
    {
     "name":"stdout",
     "text":[
      "Возрастает : \n",
      "1,2\n",
      "2,3\n",
      "3,4\n",
      "Убывает : \n"
     ],
     "output_type":"stream"
    }
   ],
   "metadata":{
    "datalore":{
     "node_id":"RjRf7EJXLeiDF4ULBImkZq",
     "type":"CODE",
     "hide_input_from_viewers":false,
     "hide_output_from_viewers":false
    }
   }
  }
 ],
 "metadata":{
  "kernelspec":{
   "display_name":"Python",
   "language":"python",
   "name":"python"
  },
  "datalore":{
   "version":1,
   "computation_mode":"JUPYTER",
   "package_manager":"pip",
   "base_environment":"default",
   "packages":[
    
   ]
  }
 },
 "nbformat":4,
 "nbformat_minor":4
}